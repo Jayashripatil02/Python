{
 "cells": [
  {
   "cell_type": "code",
   "execution_count": 1,
   "id": "9c591aca-f26f-49a4-9b5c-c2f0c1fdf425",
   "metadata": {},
   "outputs": [],
   "source": [
    "# loops - when same action is to be performed again and again, we can use a loop also calles as iteration\n",
    "# loops can be written in 2 ways\n",
    "# 1. while\n",
    "# 2. for\n",
    "# evey loop undergoes 3 steps/stages\n",
    "# 1. initilization - its a Starting value is assign\n",
    "# 2. Condition check - whuch will check whether end point has reached\n",
    "# 3. Increment / Decrement- this will change the value to attend end point of the loop\n"
   ]
  },
  {
   "cell_type": "code",
   "execution_count": 2,
   "id": "654d8b7b-707e-4c79-beb3-74cf5e697a1d",
   "metadata": {},
   "outputs": [
    {
     "name": "stdout",
     "output_type": "stream",
     "text": [
      "1\n",
      "2\n",
      "3\n",
      "4\n",
      "5\n",
      "6\n",
      "7\n",
      "8\n",
      "9\n",
      "10\n"
     ]
    }
   ],
   "source": [
    "#print number between 1 and 10\n",
    "x = 1 #initilization\n",
    "while x <= 10:  #cahecking Condition\n",
    "    print(x)\n",
    "    x = x + 1"
   ]
  },
  {
   "cell_type": "code",
   "execution_count": 5,
   "id": "0e632a7d-de57-488c-bd7a-fce7eaa9cb75",
   "metadata": {},
   "outputs": [
    {
     "name": "stdout",
     "output_type": "stream",
     "text": [
      "10\n",
      "9\n",
      "8\n",
      "7\n",
      "6\n",
      "5\n",
      "4\n",
      "3\n",
      "2\n",
      "1\n"
     ]
    }
   ],
   "source": [
    "#print number between 10 and 1\n",
    "x = 10 #initilization\n",
    "while x > 0:  #cahecking Condition\n",
    "    print(x)\n",
    "    x = x - 1"
   ]
  },
  {
   "cell_type": "code",
   "execution_count": 2,
   "id": "681d5513-918b-4533-86dd-47894f89c790",
   "metadata": {},
   "outputs": [
    {
     "name": "stdout",
     "output_type": "stream",
     "text": [
      "2 4 6 8 10 12 14 16 18 20 22 24 26 28 30 32 34 36 38 40 42 44 46 48 50 \n"
     ]
    }
   ],
   "source": [
    "#Print Even number from 1 to 50\n",
    "#method 1\n",
    "x = 2 \n",
    "while x <= 50:\n",
    "    print(x, end =\" \") #end = \" \" will keep the output on the same line\n",
    "    x = x+2\n",
    "print()\n",
    "\n",
    "#print a line/lline break / new line chracter(/n)\n",
    "# method 2\n",
    "x = 1\n",
    "while x >= 50:\n",
    "    if x%2 == 0:\n",
    "        print(x, end = \" \")\n",
    "        x += 1\n",
    "#+=  - combined assignment operator"
   ]
  },
  {
   "cell_type": "code",
   "execution_count": 3,
   "id": "dce7b6f6-fbf2-4d28-8c3c-36cc048b7bc4",
   "metadata": {},
   "outputs": [
    {
     "name": "stdout",
     "output_type": "stream",
     "text": [
      "25 23 21 19 17 15 13 11 9 7 5 3 1 "
     ]
    }
   ],
   "source": [
    "# print odd numbers between 25 and 1\n",
    "x = 25\n",
    "while x >= 1:\n",
    "    if x%2 != 0:\n",
    "        print(x, end = \" \")\n",
    "    x = x - 1\n"
   ]
  },
  {
   "cell_type": "code",
   "execution_count": 2,
   "id": "f51fbdab-4f8e-483d-9869-9fd68a9bf505",
   "metadata": {},
   "outputs": [
    {
     "name": "stdout",
     "output_type": "stream",
     "text": [
      "1\n",
      "2\n",
      "3\n",
      "4\n",
      "5\n",
      "6\n",
      "7\n",
      "8\n",
      "9\n",
      "10\n"
     ]
    }
   ],
   "source": [
    "#using for loop - ptint number 1 to 10\n",
    "for x in range(1, 11, 1):\n",
    "    print(x)\n",
    "#range- is a built in function, takes 3 arguments - initial value, end value, icrement/decrement\n"
   ]
  },
  {
   "cell_type": "code",
   "execution_count": null,
   "id": "d1a19b79-38b4-4099-acb6-4f0e555ac036",
   "metadata": {},
   "outputs": [],
   "source": [
    "for x in range(10):\n",
    "    print(x)\n",
    "#initial value will be zero id not specified, and incremnet will be by 1.\n",
    "#also end value will be one less than given value"
   ]
  },
  {
   "cell_type": "code",
   "execution_count": 9,
   "id": "e48d1d6d-34f4-4682-a7d7-f1d8de042b6b",
   "metadata": {},
   "outputs": [
    {
     "name": "stdout",
     "output_type": "stream",
     "text": [
      "10 9 8 7 6 5 4 3 2 1 "
     ]
    }
   ],
   "source": [
    "for x in range(10,0,-1):\n",
    "    print(x, end = \" \")"
   ]
  },
  {
   "cell_type": "code",
   "execution_count": 2,
   "id": "a88579a7-2e8d-4787-99f2-d2adc59a00ce",
   "metadata": {},
   "outputs": [
    {
     "name": "stdout",
     "output_type": "stream",
     "text": [
      "1\n",
      "2\n",
      "3\n",
      "4\n",
      "5\n",
      "6\n",
      "7\n",
      "8\n",
      "9\n",
      "10\n"
     ]
    }
   ],
   "source": [
    "for y in range(10):\n",
    "    print(y +1)"
   ]
  },
  {
   "cell_type": "code",
   "execution_count": 8,
   "id": "54ae9c62-fb40-4185-9d93-8fb8861cd460",
   "metadata": {},
   "outputs": [
    {
     "name": "stdout",
     "output_type": "stream",
     "text": [
      "2 2\n",
      "4 6\n",
      "6 12\n",
      "8 20\n",
      "10 30\n",
      "Total of even number between 1 to 10 is 30\n"
     ]
    }
   ],
   "source": [
    "# write a program to add even numbers between 1 and 10\n",
    "#Method 1\n",
    "result = 0\n",
    "for x in range(2,11,2):\n",
    "    result = result + x\n",
    "    print(x,result)\n",
    "print(\"Total of even number between 1 to 10 is\", result)\n",
    "\n"
   ]
  },
  {
   "cell_type": "code",
   "execution_count": 7,
   "id": "793fcad8-ffbc-4654-a52d-37bcd9200692",
   "metadata": {},
   "outputs": [
    {
     "name": "stdout",
     "output_type": "stream",
     "text": [
      "Total of even number between 1 to 10 is 30\n"
     ]
    }
   ],
   "source": [
    "# write a program to add even numbers between 1 and 10\n",
    "#Method 1\n",
    "result = 0\n",
    "for x in range(11):\n",
    "    if x % 2 == 0:\n",
    "        result += x\n",
    "print(\"Total of even number between 1 to 10 is\", result)\n"
   ]
  },
  {
   "cell_type": "code",
   "execution_count": 9,
   "id": "e51d57d4-8a35-495b-9c41-ed19aaf426e7",
   "metadata": {},
   "outputs": [
    {
     "name": "stdin",
     "output_type": "stream",
     "text": [
      "Enter the 4 digit number 7689\n"
     ]
    },
    {
     "name": "stdout",
     "output_type": "stream",
     "text": [
      "30\n"
     ]
    }
   ],
   "source": [
    "#Program to add digit of a 4 digit number\n",
    "x = input(\"Enter the 4 digit number\")\n",
    "res = 0\n",
    "if len(x) == 4:\n",
    "    x = int(x)\n",
    "    while x > 0:\n",
    "        res = res + (x%10)\n",
    "        x = x//10\n",
    "    print(res)\n",
    "else:\n",
    "    print(\"eter 4 digit number only\")"
   ]
  },
  {
   "cell_type": "code",
   "execution_count": null,
   "id": "bf31dbab-5df1-48a8-b94a-58ce21cfdd40",
   "metadata": {},
   "outputs": [],
   "source": [
    "Dry run of above code for understanding\n",
    "\n",
    "x      x%10   x//10    res\n",
    "7689    9       768     9\n",
    "768     8        76     8 + 9 = 17\n",
    "76      6         7     17 + 6 = 23\n",
    "7       7         0     23 + 7 = 30\n",
    "0       "
   ]
  },
  {
   "cell_type": "code",
   "execution_count": 13,
   "id": "f0d1b9f7-a230-4285-8146-3e9d61be03e7",
   "metadata": {},
   "outputs": [
    {
     "name": "stdin",
     "output_type": "stream",
     "text": [
      "Enter the 4 digit number 1234\n"
     ]
    },
    {
     "name": "stdout",
     "output_type": "stream",
     "text": [
      "24\n"
     ]
    }
   ],
   "source": [
    "#Program to get product of digit of a entered number\n",
    "x = int(input(\"Enter the 4 digit number\"))\n",
    "res = 1\n",
    "while x > 0:\n",
    "    res = res * (x%10)\n",
    "    x = x//10\n",
    "print(res)"
   ]
  },
  {
   "cell_type": "code",
   "execution_count": 2,
   "id": "e7314247-3db2-4fcb-a5dc-af46544a7e1b",
   "metadata": {},
   "outputs": [
    {
     "name": "stdin",
     "output_type": "stream",
     "text": [
      "Enter a number:  4\n"
     ]
    },
    {
     "name": "stdout",
     "output_type": "stream",
     "text": [
      "The factorial of 4 is 24\n"
     ]
    }
   ],
   "source": [
    "#Factorial of number\n",
    "num = int(input(\"Enter a number: \"))\n",
    "\n",
    "factorial = 1\n",
    "i = 1\n",
    "if num < 0:\n",
    "    print(\"Factorial does not exist for negative numbers.\")\n",
    "else:\n",
    "    while i <= num:\n",
    "        factorial = factorial * i\n",
    "        i = i + 1\n",
    "    print(\"The factorial of\", num, \"is\" ,factorial)\n"
   ]
  },
  {
   "cell_type": "code",
   "execution_count": 3,
   "id": "a6bbcb63-a1aa-4923-ac03-9e36ea3c56ef",
   "metadata": {},
   "outputs": [
    {
     "name": "stdout",
     "output_type": "stream",
     "text": [
      "The sum of first 10 numbers is: 55\n"
     ]
    }
   ],
   "source": [
    "# Method 1: Using for loop\n",
    "total = 0\n",
    "for i in range(1, 11):  \n",
    "    total += i\n",
    "print(\"The sum of first 10 numbers is:\", total)\n"
   ]
  },
  {
   "cell_type": "code",
   "execution_count": 3,
   "id": "5a077cea-98bb-48ac-82b6-86e9938f323c",
   "metadata": {},
   "outputs": [
    {
     "name": "stdin",
     "output_type": "stream",
     "text": [
      "Enter a number:  5\n"
     ]
    },
    {
     "name": "stdout",
     "output_type": "stream",
     "text": [
      "The sum of first 5 numbers is: 15\n"
     ]
    }
   ],
   "source": [
    "# find sum of first n numbers where n is entered by user\n",
    "n = int(input(\"Enter a number: \"))\n",
    "total = 0\n",
    "for i in range(1, n + 1):\n",
    "    total += i \n",
    "print(f\"The sum of first {n} numbers is: {total}\")\n"
   ]
  },
  {
   "cell_type": "code",
   "execution_count": null,
   "id": "c8a348ae-e9e3-4236-b32d-d9992299cf2c",
   "metadata": {},
   "outputs": [],
   "source": [
    "#Program to print reverse number\n",
    "x = int(input(\"Enter a number\"))\n",
    "rev_x = 0\n",
    "while x>0:\n",
    "    rev_x = rev_x * 10 + x % 10\n",
    "    x = x // 10\n",
    "print(rev_x)"
   ]
  },
  {
   "cell_type": "code",
   "execution_count": null,
   "id": "57e6a359-a365-482c-a758-c7e421cdf829",
   "metadata": {},
   "outputs": [],
   "source": [
    " x      rev_x * 10 + x % 10      x//10\n",
    " 1234   0*10+4 = 0+4 = 4          123\n",
    " 123    4*10+3 = 10+3 = 43        12\n",
    " 12     43*10+2 = 430+2 = 432     1\n",
    " 1      432*10+1 = 4321"
   ]
  },
  {
   "cell_type": "code",
   "execution_count": 1,
   "id": "8551626a-79fb-4417-b4c7-46535fd13c31",
   "metadata": {},
   "outputs": [
    {
     "name": "stdin",
     "output_type": "stream",
     "text": [
      "Enter a number 4\n"
     ]
    },
    {
     "name": "stdout",
     "output_type": "stream",
     "text": [
      "4 "
     ]
    }
   ],
   "source": [
    "#input = 1234 output = 3 2 3 3 2 1\n",
    "x = int(input(\"Enter a number\"))\n",
    "while x>0:\n",
    "    print(x%10, end = ' ')\n",
    "    x = x//10"
   ]
  },
  {
   "cell_type": "code",
   "execution_count": 2,
   "id": "29bcf8e6-fec6-4354-9ade-ebc29c89716e",
   "metadata": {},
   "outputs": [
    {
     "name": "stdin",
     "output_type": "stream",
     "text": [
      "Enter a number 4\n"
     ]
    },
    {
     "name": "stdout",
     "output_type": "stream",
     "text": [
      "prime\n"
     ]
    }
   ],
   "source": [
    "#check whether entered number is prime or not\n",
    "#prime number- number divisible by 1 and itself\n",
    "x = int(input(\"Enter a number\"))\n",
    "f1 = False       #use of boolean variable\n",
    "for i in range(2, x, 1):\n",
    "    if x%i == 0:\n",
    "        f1 == True\n",
    "        break\n",
    "        #break- Statement which stop the loop\n",
    "if f1 == True:\n",
    "    print(\"Not prime\")\n",
    "else:\n",
    "    print(\"prime\")"
   ]
  },
  {
   "cell_type": "code",
   "execution_count": null,
   "id": "3db76525-6105-4f29-9574-3e5ea114c147",
   "metadata": {},
   "outputs": [],
   "source": [
    "#--------------------------------------------------------Nested loops------------------------------------------------------\n",
    "\"\"\"when loop is written inside a loop xalled  as nested loops\n",
    "usually used to create or acess multidimensional structure\n",
    "maxtrix/table- 2D structure having rows and columns\n",
    "for each value of outside loop(row), inside loop(col) will be exectued n(range) times\"\"\"\n"
   ]
  },
  {
   "cell_type": "code",
   "execution_count": 3,
   "id": "994978f0-565c-4aba-ac14-c875e1599fac",
   "metadata": {},
   "outputs": [
    {
     "name": "stdout",
     "output_type": "stream",
     "text": [
      "1 2 3 \n",
      "1 2 3 \n",
      "1 2 3 \n"
     ]
    }
   ],
   "source": [
    "for row in range(3):\n",
    "    for col in range(3):\n",
    "        print(col+1, end = \" \")\n",
    "    print()"
   ]
  },
  {
   "cell_type": "code",
   "execution_count": null,
   "id": "ecc2c2fa-b7ac-4276-89a1-0d105bba926e",
   "metadata": {},
   "outputs": [],
   "source": [
    "row   col    col+1\n",
    "0      0       1\n",
    "       1       2\n",
    "       2       3\n",
    "1      0       1\n",
    "       1       2\n",
    "       2       3\n",
    "2"
   ]
  },
  {
   "cell_type": "code",
   "execution_count": 2,
   "id": "883d554d-101b-4872-9ba6-2eeecdb17313",
   "metadata": {},
   "outputs": [
    {
     "name": "stdin",
     "output_type": "stream",
     "text": [
      "Enter number 234\n"
     ]
    },
    {
     "name": "stdout",
     "output_type": "stream",
     "text": [
      "234 is not a armstrong number\n"
     ]
    }
   ],
   "source": [
    "num = int(input(\"Enter number\"))#153\n",
    "n = len(str(num))\n",
    "temp = num\n",
    "sum = 0\n",
    "\n",
    "while temp > 0:\n",
    "    digit = temp % 10\n",
    "    sum += digit ** n \n",
    "    temp = temp // 10\n",
    "    \n",
    "if sum == num:\n",
    "    print(num, \"is an armstrong number\")\n",
    "else:\n",
    "    print(num, \"is not a armstrong number\")\n",
    "    "
   ]
  },
  {
   "cell_type": "code",
   "execution_count": null,
   "id": "02713abd-3eae-4657-a538-19a52565cbc3",
   "metadata": {},
   "outputs": [],
   "source": [
    "num = int(input(\"Enter number\"))\n",
    "sum = 0\n",
    "\n"
   ]
  }
 ],
 "metadata": {
  "kernelspec": {
   "display_name": "Python [conda env:base] *",
   "language": "python",
   "name": "conda-base-py"
  },
  "language_info": {
   "codemirror_mode": {
    "name": "ipython",
    "version": 3
   },
   "file_extension": ".py",
   "mimetype": "text/x-python",
   "name": "python",
   "nbconvert_exporter": "python",
   "pygments_lexer": "ipython3",
   "version": "3.12.7"
  }
 },
 "nbformat": 4,
 "nbformat_minor": 5
}
