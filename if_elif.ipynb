{
 "cells": [
  {
   "cell_type": "code",
   "execution_count": null,
   "id": "8ecdab56-fe09-407e-ad8c-f94a945c0b89",
   "metadata": {},
   "outputs": [],
   "source": [
    "# Conditional statement- statement where RHS is Compared with LHS, answer is a boolean value\n",
    "# true or false. if....elif...else\n",
    "# if and elif are follwed by condition\n",
    "# else is Never follwed by condition\n",
    "# Only one if and else can be written elif can be written multtiple time\n",
    "# Program using Comparison and logical operator"
   ]
  },
  {
   "cell_type": "code",
   "execution_count": 1,
   "id": "347bb71b-c144-442e-ba73-e5f1b4bb2fa3",
   "metadata": {},
   "outputs": [
    {
     "name": "stdin",
     "output_type": "stream",
     "text": [
      "Enter a number 2\n",
      "Enter a secound number 2\n"
     ]
    },
    {
     "name": "stdout",
     "output_type": "stream",
     "text": [
      "Both are Same\n"
     ]
    }
   ],
   "source": [
    "# Program to find a greater number within 2 number\n",
    "\n",
    "x = int(input(\"Enter a number\"))\n",
    "y = int(input(\"Enter a secound number\"))\n",
    "\n",
    "if x>y:\n",
    "    print(\"greater number is \", x)\n",
    "elif x==y:\n",
    "    print(\"Both are Same\")\n",
    "else:\n",
    "    print(\"greater number is \", y)"
   ]
  },
  {
   "cell_type": "code",
   "execution_count": 2,
   "id": "e00f89f9-fadc-49a7-aa61-be35fb057125",
   "metadata": {},
   "outputs": [
    {
     "name": "stdin",
     "output_type": "stream",
     "text": [
      "Light:  red\n"
     ]
    },
    {
     "name": "stdout",
     "output_type": "stream",
     "text": [
      "Stop\n"
     ]
    }
   ],
   "source": [
    "light = input(\"Light: \")\n",
    "if light == \"red\" or \"Red\":\n",
    "    print(\"Stop\")\n",
    "elif light == \"yellow\":\n",
    "    print(\"Look\")\n",
    "elif light == \"green\":\n",
    "    print(\"Goo...\")\n",
    "else:\n",
    "    print(\"light is broke\")\n"
   ]
  },
  {
   "cell_type": "code",
   "execution_count": 3,
   "id": "826cc183-5eb6-4940-8e86-9278fa69067a",
   "metadata": {},
   "outputs": [
    {
     "name": "stdin",
     "output_type": "stream",
     "text": [
      "Enter a number 44\n"
     ]
    },
    {
     "name": "stdout",
     "output_type": "stream",
     "text": [
      "Number is Even  44\n"
     ]
    }
   ],
   "source": [
    "# check whered entered number is even or odd\n",
    "x = int(input(\"Enter a number\"))\n",
    "if x%2 == 0:\n",
    "    print(\"Number is Even \", x)\n",
    "else:\n",
    "    print(\"Number is Odd \", x)"
   ]
  },
  {
   "cell_type": "code",
   "execution_count": 4,
   "id": "a1803b5d-a9c8-48ff-82b0-6238044200ce",
   "metadata": {},
   "outputs": [
    {
     "name": "stdin",
     "output_type": "stream",
     "text": [
      "Enter a number 87\n"
     ]
    },
    {
     "name": "stdout",
     "output_type": "stream",
     "text": [
      "Number is not divided by 7\n"
     ]
    }
   ],
   "source": [
    "# check whether entered number is multiple of 7\n",
    "x = int(input(\"Enter a number\"))\n",
    "if x%7 == 0:\n",
    "    print(\"Number divided by 7 \")\n",
    "else:\n",
    "    print(\"Number is not divided by 7\")"
   ]
  },
  {
   "cell_type": "code",
   "execution_count": 3,
   "id": "f3b670f7-52ea-4175-96ea-7ea2b4540032",
   "metadata": {},
   "outputs": [
    {
     "name": "stdin",
     "output_type": "stream",
     "text": [
      "Entered year in formate yyyy 1800\n"
     ]
    },
    {
     "name": "stdout",
     "output_type": "stream",
     "text": [
      "Not Leap year\n"
     ]
    }
   ],
   "source": [
    "#use of ogical operators\n",
    "#to check whether entered year is leap year\n",
    "#in math if 2024 → Leap year आहे (4 ने भाग जातो)\n",
    "            #1900 → Leap year नाही (100 ने भाग जातो, पण 400 ने नाही) \n",
    "            #2000 → Leap year आहे (100 आणि 400 दोन्हीने भाग जातो)\n",
    "year = int(input(\"Entered year in formate yyyy\"))\n",
    "if year%100 == 0 and year%400 == 0:\n",
    "    print(\"Leap year\")\n",
    "elif year%100 != 0 and year%4 == 0:\n",
    "    print(\"Leap year\")\n",
    "else:\n",
    "    print(\"Not Leap year\")\n"
   ]
  },
  {
   "cell_type": "code",
   "execution_count": 7,
   "id": "3b6b65d0-e445-41d1-a3bc-dc33fdf7b81d",
   "metadata": {},
   "outputs": [
    {
     "name": "stdin",
     "output_type": "stream",
     "text": [
      "Enter the age=  44557\n"
     ]
    },
    {
     "name": "stdout",
     "output_type": "stream",
     "text": [
      "You Can't eligible for Vote\n"
     ]
    }
   ],
   "source": [
    "# Check if person is eligible to vote (check age )\n",
    "age = int(input(\"Enter the age= \"))\n",
    "if age >= 18 and age<100:\n",
    "    print(\"You can Vote\")\n",
    "else:\n",
    "    print(\"You Can't eligible for Vote\")"
   ]
  },
  {
   "cell_type": "code",
   "execution_count": 2,
   "id": "fed6ee79-0dbb-45b8-81d2-a0e2c9546844",
   "metadata": {},
   "outputs": [
    {
     "name": "stdin",
     "output_type": "stream",
     "text": [
      "Enter a Alphabet a\n"
     ]
    },
    {
     "name": "stdout",
     "output_type": "stream",
     "text": [
      "It is a Vowel\n"
     ]
    }
   ],
   "source": [
    "# accept a single alphabet from user and check whether it is a vowel\n",
    "s = input(\"Enter a Alphabet\")\n",
    "#Written Nested if\n",
    "if(len(s) > 1 or len(s) == 0):\n",
    "    print(\"Enter an Alphabet\")\n",
    "else:\n",
    "    if s == 'a' or s == 'e' or s == 'i' or s == 'o' or s == 'u':\n",
    "        print(\"It is a Vowel\")\n",
    "    else:\n",
    "        print(\"Not a Vowel\")"
   ]
  },
  {
   "cell_type": "code",
   "execution_count": 13,
   "id": "778f3d43-22fb-48b2-81e0-50d5c3d30e2e",
   "metadata": {},
   "outputs": [
    {
     "name": "stdin",
     "output_type": "stream",
     "text": [
      "Enter a Alphabet A\n"
     ]
    },
    {
     "name": "stdout",
     "output_type": "stream",
     "text": [
      "It is a Vowel\n"
     ]
    }
   ],
   "source": [
    "# accept a single alphabet from user and check whether it is a vowel\n",
    "s = input(\"Enter a Alphabet\")\n",
    "#Written Nested if\n",
    "if(len(s) > 1 or len(s) == 0):\n",
    "    print(\"Enter an single Alphabet\")\n",
    "else:\n",
    "    if s in 'AEIOUaeiou': \n",
    "        # in- is a memborship operator it will check given string is a subset of entire string \n",
    "        #in- only used in String\n",
    "        print(\"It is a Vowel\") \n",
    "    else:\n",
    "        print(\"Not a Vowel\")"
   ]
  },
  {
   "cell_type": "code",
   "execution_count": 4,
   "id": "1fccb0ab-caa6-4a86-9e16-4a7ac02fdf52",
   "metadata": {},
   "outputs": [
    {
     "name": "stdin",
     "output_type": "stream",
     "text": [
      "Enter a number between 1-7 1\n"
     ]
    },
    {
     "name": "stdout",
     "output_type": "stream",
     "text": [
      "Sunday\n"
     ]
    }
   ],
   "source": [
    "#First methos usinng if else and nestead\n",
    "# Write a program to accept a number between 1 and 7 and display the name of day, like 1 for Sunday, 2 for Monday and so on\n",
    "num = int(input(\"Enter a number between 1-7\"))\n",
    "if num < 1 or num > 7:\n",
    "    print(\"wrong Input!!!\")\n",
    "else:\n",
    "    if num == 1:\n",
    "        print(\"Sunday\")\n",
    "    elif num == 2:\n",
    "        print(\"Monday\")\n",
    "    elif num == 3:\n",
    "        print(\"Tuesday\")\n",
    "    elif num == 4:\n",
    "        print(\"Wednesday\")\n",
    "    elif num == 5:\n",
    "        print(\"Thursday\")\n",
    "    elif num == 6:\n",
    "        print(\"Friday\")\n",
    "    elif num == 7:\n",
    "        print(\"Saturday\")\n",
    "    else:\n",
    "        print(\"Default\")\n",
    "    "
   ]
  },
  {
   "cell_type": "code",
   "execution_count": 5,
   "id": "b7676e9a-a112-4885-a17e-09439eac3a21",
   "metadata": {},
   "outputs": [
    {
     "name": "stdin",
     "output_type": "stream",
     "text": [
      "Enter a number between 1-7 1\n"
     ]
    },
    {
     "name": "stdout",
     "output_type": "stream",
     "text": [
      "Sunday\n"
     ]
    }
   ],
   "source": [
    "#Secound method usinng if else and nestead\n",
    "# Write a program to accept a number between 1 and 7 and display the name of day, like 1 for Sunday, 2 for Monday and so on\n",
    "num = int(input(\"Enter a number between 1-7\"))\n",
    "match num:\n",
    "    case 1:\n",
    "        print(\"Sunday\")\n",
    "    case 2:\n",
    "        print(\"Monday\")\n",
    "    case 3:\n",
    "        print(\"Tuesday\")\n",
    "    case 4:\n",
    "        print(\"Wednesday\")\n",
    "    case 5:\n",
    "        print(\"Thursday\")\n",
    "    case 6:\n",
    "        print(\"Friday\")\n",
    "    case 7:\n",
    "        print(\"Saturday\")\n",
    "    case _:\n",
    "        print(\"Wrong Input!!!\")"
   ]
  },
  {
   "cell_type": "code",
   "execution_count": 1,
   "id": "f19316bc-aee6-4923-bc73-25bab341b215",
   "metadata": {},
   "outputs": [
    {
     "name": "stdin",
     "output_type": "stream",
     "text": [
      "Enter the number between 1-7 2\n"
     ]
    },
    {
     "name": "stdout",
     "output_type": "stream",
     "text": [
      "Weedays!! Need to work\n"
     ]
    }
   ],
   "source": [
    "#print therether weekday or weekend\n",
    "num = input(\"Enter the number between 1-7\")\n",
    "if num.isdigit():\n",
    "    num = int(num)\n",
    "    match num:\n",
    "        case 2 | 3 | 4 | 5 | 6 :\n",
    "            print(\"Weedays!! Need to work\")\n",
    "        case 1 | 7 :\n",
    "            print(\"Weekent!! time to relax\")\n",
    "        case _:\n",
    "            print(\"Sorry!! no idea\")\n",
    "else:\n",
    "    print(\"You entered a string or invalid input\")"
   ]
  },
  {
   "cell_type": "code",
   "execution_count": 11,
   "id": "a4791ef5-096e-4c85-943d-5676007f101f",
   "metadata": {},
   "outputs": [
    {
     "name": "stdin",
     "output_type": "stream",
     "text": [
      "Enter a number between 1-7 1\n",
      "Enter a number for month like 4 for April, 5 for May 5\n"
     ]
    },
    {
     "name": "stdout",
     "output_type": "stream",
     "text": [
      "Sorry!! no idea\n"
     ]
    }
   ],
   "source": [
    "#Combine if with case to check extra condition\n",
    "num = int(input(\"Enter a number between 1-7\"))\n",
    "m = int(input(\"Enter a number for month like 4 for April, 5 for May\"))\n",
    "\n",
    "match num:\n",
    "    case 2 | 3 | 4 | 5 | 6 if m == 5:\n",
    "        print(\"Weedays but summer vacation for school\")\n",
    "    case 2 | 3 | 4 | 5 | 6 if m == 3 :\n",
    "        print(\"Weekday and Exam Time\")\n",
    "    case _:\n",
    "        print(\"Sorry!! no idea\")"
   ]
  },
  {
   "cell_type": "code",
   "execution_count": 6,
   "id": "f19280eb-960b-412a-bb85-68fbb5c10115",
   "metadata": {},
   "outputs": [
    {
     "name": "stdin",
     "output_type": "stream",
     "text": [
      "Enter a 3 digit number 453\n"
     ]
    },
    {
     "name": "stdout",
     "output_type": "stream",
     "text": [
      "45\n",
      "25\n"
     ]
    }
   ],
   "source": [
    "# Write a program to check whether entered number is 3 digit or not. If yes, print square second digit\n",
    "x = input(\"Enter a 3 digit number\")\n",
    "if len(x) == 3:\n",
    "        x = int(x)\n",
    "        x = x // 10\n",
    "        print(x)\n",
    "        # Floor division is return integer part of division\n",
    "        sq = (x % 10)**2\n",
    "        print(sq)\n",
    "else:\n",
    "    print(\"Number is not a # digit number\")\n"
   ]
  }
 ],
 "metadata": {
  "kernelspec": {
   "display_name": "Python [conda env:base] *",
   "language": "python",
   "name": "conda-base-py"
  },
  "language_info": {
   "codemirror_mode": {
    "name": "ipython",
    "version": 3
   },
   "file_extension": ".py",
   "mimetype": "text/x-python",
   "name": "python",
   "nbconvert_exporter": "python",
   "pygments_lexer": "ipython3",
   "version": "3.12.7"
  }
 },
 "nbformat": 4,
 "nbformat_minor": 5
}
