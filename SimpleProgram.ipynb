{
 "cells": [
  {
   "cell_type": "code",
   "execution_count": null,
   "id": "aebcb26c-4471-4e46-994b-0c74d71e7728",
   "metadata": {},
   "outputs": [],
   "source": [
    "#Simple program using Arithematic operator"
   ]
  },
  {
   "cell_type": "code",
   "execution_count": 11,
   "id": "0192b677-cad1-4849-965b-304576f12913",
   "metadata": {},
   "outputs": [
    {
     "name": "stdin",
     "output_type": "stream",
     "text": [
      "Enter a number:  2\n"
     ]
    },
    {
     "name": "stdout",
     "output_type": "stream",
     "text": [
      "<class 'str'>\n",
      "<class 'int'>\n"
     ]
    },
    {
     "name": "stdin",
     "output_type": "stream",
     "text": [
      "Enter a number:  2\n"
     ]
    },
    {
     "name": "stdout",
     "output_type": "stream",
     "text": [
      "Sum is:  4 Multiplication is:  4\n"
     ]
    }
   ],
   "source": [
    "# Addition and Multiplictaion of two number\n",
    "x = input(\"Enter a number: \")\n",
    "print (type(x))  #will guve datatype variable\n",
    "x = int(x)  #Changing data type also call as type Casting\n",
    "print (type(x)) \n",
    "y = input(\"Enter a number: \")\n",
    "y = int(y)\n",
    "\n",
    "sum = x + y\n",
    "mul = x * y\n",
    "print(\"Sum is: \" , sum, \"Multiplication is: \", mul)"
   ]
  },
  {
   "cell_type": "code",
   "execution_count": 14,
   "id": "b0665394-8b75-4d8f-b066-48bbb28b8729",
   "metadata": {},
   "outputs": [
    {
     "name": "stdin",
     "output_type": "stream",
     "text": [
      "Enter a Radius of circle = 2\n"
     ]
    },
    {
     "name": "stdout",
     "output_type": "stream",
     "text": [
      "Area of circle is =  12.566370614359172\n",
      "Circumference of circle =  12.566370614359172\n"
     ]
    }
   ],
   "source": [
    "#using math library\n",
    "import math\n",
    "#import is a statement is used to get a library function\n",
    "r = float(input(\"Enter a Radius of circle =\"))\n",
    "area = math.pi * math.pow(r,2)\n",
    "#math.pi- return value of piupto 6 decimal value\n",
    "#math.pow- return number of given power\n",
    "circum = 2 * math.pi * r\n",
    "print(\"Area of circle is = \", area)\n",
    "print(\"Circumference of circle = \", circum)"
   ]
  },
  {
   "cell_type": "code",
   "execution_count": 6,
   "id": "87741301-4793-4fcf-80a3-13304aab17eb",
   "metadata": {},
   "outputs": [
    {
     "name": "stdin",
     "output_type": "stream",
     "text": [
      "Enter value for x 3\n",
      "Enter value for y 4\n"
     ]
    },
    {
     "name": "stdout",
     "output_type": "stream",
     "text": [
      "13\n",
      "57\n"
     ]
    }
   ],
   "source": [
    "# write a program to evaluate given expression\n",
    "#x + y - 2x + 3y , (x + y)^2 - (x-y)^3+(x+y)\n",
    "\n",
    "x = int(input(\"Enter value for x\"))\n",
    "y = int(input(\"Enter value for y\"))\n",
    "res1 = x + y -(2*x) + (3*y)\n",
    "print(res1)\n",
    "res2 = ( x + y)**2 - (x-y)**3+(x+y)\n",
    "print(res2)"
   ]
  },
  {
   "cell_type": "code",
   "execution_count": 7,
   "id": "4f30ed95-ec42-406d-9a54-154409979b44",
   "metadata": {},
   "outputs": [
    {
     "name": "stdin",
     "output_type": "stream",
     "text": [
      "Enter a 4 Digit number:  7656\n"
     ]
    },
    {
     "name": "stdout",
     "output_type": "stream",
     "text": [
      "Last Digit of Enter number is  6\n"
     ]
    }
   ],
   "source": [
    "# display last digit of a 4 digit number\n",
    "# example input = 1234 output = 4\n",
    "x = int(input(\"Enter a 4 Digit number: \"))\n",
    "digit = x%10\n",
    "print(\"Last Digit of Enter number is \", digit)"
   ]
  },
  {
   "cell_type": "code",
   "execution_count": 8,
   "id": "a137cabc-676a-4910-9cd7-1382ed1b0526",
   "metadata": {},
   "outputs": [
    {
     "name": "stdin",
     "output_type": "stream",
     "text": [
      "Enter the number:  4\n",
      "Enter the another number:  5\n"
     ]
    },
    {
     "name": "stdout",
     "output_type": "stream",
     "text": [
      "a =  5\n",
      "b =  4\n"
     ]
    }
   ],
   "source": [
    "# Write a Program to Swap values of two number entered by user\n",
    "#methos1 using 3 variable\n",
    "a = int(input(\"Enter the number: \"))\n",
    "b = int(input(\"Enter the another number: \"))\n",
    "temp = a\n",
    "a = b\n",
    "b = temp\n",
    "print(\"a = \" ,a)\n",
    "print(\"b = \",b)\n"
   ]
  },
  {
   "cell_type": "code",
   "execution_count": 11,
   "id": "f2cf17bd-7cf3-4d85-ba64-854e765c9cfc",
   "metadata": {},
   "outputs": [
    {
     "name": "stdin",
     "output_type": "stream",
     "text": [
      "Enter the number:  10\n",
      "Enter the another number:  20\n"
     ]
    },
    {
     "name": "stdout",
     "output_type": "stream",
     "text": [
      "30\n",
      "10\n",
      "20\n",
      "a =  20\n",
      "b =  10\n"
     ]
    }
   ],
   "source": [
    "# Write a Program to Swap values of two number entered by user\n",
    "#methos2 without 3rd variable\n",
    "a = int(input(\"Enter the number: \"))\n",
    "b = int(input(\"Enter the another number: \"))\n",
    "a = a+b\n",
    "print(a)\n",
    "b = a-b\n",
    "print(b)\n",
    "a = a-b\n",
    "print(a)\n",
    "print(\"a = \" ,a)\n",
    "print(\"b = \",b)\n"
   ]
  },
  {
   "cell_type": "code",
   "execution_count": 10,
   "id": "9e7ab396-60aa-4146-8275-6a108f12a6b8",
   "metadata": {},
   "outputs": [
    {
     "name": "stdin",
     "output_type": "stream",
     "text": [
      "Enter the number:  10\n",
      "Enter the another number:  45\n"
     ]
    },
    {
     "name": "stdout",
     "output_type": "stream",
     "text": [
      "a =  45\n",
      "b =  10\n"
     ]
    }
   ],
   "source": [
    "# Write a Program to Swap values of two number entered by user\n",
    "#method 3 simultaneous assignment\n",
    "a = int(input(\"Enter the number: \"))\n",
    "b = int(input(\"Enter the another number: \"))\n",
    "a, b = b, a #Simultaneous assignment\n",
    "print(\"a = \" ,a)\n",
    "print(\"b = \",b)\n"
   ]
  },
  {
   "cell_type": "code",
   "execution_count": 2,
   "id": "d6ca890f-1afa-4504-b694-bc568e60e619",
   "metadata": {},
   "outputs": [
    {
     "name": "stdin",
     "output_type": "stream",
     "text": [
      "Enter reactangle lenght:  12\n",
      "Enter the rectangle of Width:  18\n"
     ]
    },
    {
     "name": "stdout",
     "output_type": "stream",
     "text": [
      "216\n"
     ]
    }
   ],
   "source": [
    "#wite a program to calculate  area of rectangle\n",
    "length = int(input(\"Enter reactangle lenght: \"))\n",
    "width = int(input(\"Enter the rectangle of Width: \"))\n",
    "area = length * width\n",
    "print(area)"
   ]
  },
  {
   "cell_type": "code",
   "execution_count": 4,
   "id": "e7afd473-a03d-4c10-a43e-253faba856ee",
   "metadata": {},
   "outputs": [
    {
     "name": "stdin",
     "output_type": "stream",
     "text": [
      "Enter marks for Subject 1:  80\n",
      "Enter marks for Subject 2:  90\n",
      "Enter marks for Subject 3:  70\n",
      "Enter marks for Subject 4:  85\n",
      "Enter marks for Subject 5:  95\n"
     ]
    },
    {
     "name": "stdout",
     "output_type": "stream",
     "text": [
      "Total Marks: 420.0\n",
      "Percentage: 84.0 %\n"
     ]
    }
   ],
   "source": [
    "# Program to calculate percentage of a student\n",
    "# taking input from the user\n",
    "sub1 = float(input(\"Enter marks for Subject 1: \"))\n",
    "sub2 = float(input(\"Enter marks for Subject 2: \"))\n",
    "sub3 = float(input(\"Enter marks for Subject 3: \"))\n",
    "sub4 = float(input(\"Enter marks for Subject 4: \"))\n",
    "sub5 = float(input(\"Enter marks for Subject 5: \"))\n",
    "\n",
    " # Calculating total and percentage\n",
    "total_marks = sub1 + sub2 + sub3 + sub4 + sub5\n",
    "percentage = (total_marks / 500) * 100  #if each subject is out of 100\n",
    "\n",
    "print(\"Total Marks:\", total_marks)\n",
    "print(\"Percentage:\", percentage, \"%\")\n"
   ]
  },
  {
   "cell_type": "code",
   "execution_count": 5,
   "id": "d1dab4c3-42e3-4893-9521-9940d3058e96",
   "metadata": {},
   "outputs": [
    {
     "name": "stdin",
     "output_type": "stream",
     "text": [
      "Enter base of traingle:  22\n",
      "Enter height of traingle:  45\n"
     ]
    },
    {
     "name": "stdout",
     "output_type": "stream",
     "text": [
      "Area of traingle is:  495.0\n"
     ]
    }
   ],
   "source": [
    "# Calculate area of traingle\n",
    "base = float(input(\"Enter base of traingle: \"))\n",
    "height = float(input(\"Enter height of traingle: \"))\n",
    "\n",
    "area = 0.5 * base * height\n",
    "print(\"Area of traingle is: \", area)"
   ]
  },
  {
   "cell_type": "code",
   "execution_count": 19,
   "id": "504e853d-cb32-49cd-88e5-a6deabb92f8e",
   "metadata": {},
   "outputs": [
    {
     "name": "stdin",
     "output_type": "stream",
     "text": [
      "Enter number=  2\n"
     ]
    },
    {
     "name": "stdout",
     "output_type": "stream",
     "text": [
      "Cube of  2 is 8\n"
     ]
    }
   ],
   "source": [
    "# Write a program to find cube of a entered number.\n",
    "num = int(input(\"Enter number= \"))\n",
    "cube = num ** 3\n",
    "print(\"Cube of \", num, \"is\" , cube )"
   ]
  },
  {
   "cell_type": "code",
   "execution_count": 23,
   "id": "1dc7eab9-c3b9-4719-bb5e-064aaa36b5c0",
   "metadata": {},
   "outputs": [
    {
     "name": "stdin",
     "output_type": "stream",
     "text": [
      "Enter the First number 10\n",
      "Enter the Secound number 3\n"
     ]
    },
    {
     "name": "stdout",
     "output_type": "stream",
     "text": [
      "Reaminder is when 10 Divided by 3 is 1\n"
     ]
    }
   ],
   "source": [
    "# write a program to divide first number by second and display remainder\n",
    "num1 = int(input(\"Enter the First number\"))\n",
    "num2 = int(input(\"Enter the Secound number\"))\n",
    "\n",
    "reaminder = num1 % num2\n",
    "print(\"Reaminder is when\", num1 , \"Divided by\", num2 , \"is\" , reaminder)"
   ]
  },
  {
   "cell_type": "code",
   "execution_count": 25,
   "id": "9eae5ed9-c0d6-4407-9053-b588ee37c97a",
   "metadata": {},
   "outputs": [
    {
     "name": "stdin",
     "output_type": "stream",
     "text": [
      "Enter number=  2\n"
     ]
    },
    {
     "name": "stdout",
     "output_type": "stream",
     "text": [
      "pow of  2 is 32\n"
     ]
    }
   ],
   "source": [
    "# write a program to find power of 5 of a entered number\n",
    "num = int(input(\"Enter number= \"))\n",
    "pow = num ** 5\n",
    "print(\"pow of \",num, \"is\" , pow )"
   ]
  },
  {
   "cell_type": "code",
   "execution_count": 26,
   "id": "3fe23e6c-8ae3-41a4-8dfe-23783d3d5efa",
   "metadata": {},
   "outputs": [
    {
     "name": "stdin",
     "output_type": "stream",
     "text": [
      "Enter temperatre in Celcius=  25\n"
     ]
    },
    {
     "name": "stdout",
     "output_type": "stream",
     "text": [
      "Temperature in Fahrenheit 77.0\n"
     ]
    }
   ],
   "source": [
    "# Program to convert celcius to farenheit = celcius *1.8 +32\n",
    "celcius = float(input(\"Enter temperatre in Celcius= \"))\n",
    "fahrenheit = celcius * 1.8 + 32        #or F = C*9/5+32\n",
    "print(\"Temperature in Fahrenheit\", fahrenheit)"
   ]
  },
  {
   "cell_type": "code",
   "execution_count": 28,
   "id": "c23a4d46-557c-4fb5-b538-55a3a3ca1aec",
   "metadata": {},
   "outputs": [
    {
     "name": "stdin",
     "output_type": "stream",
     "text": [
      "Enter the First number=  15\n",
      "Enter the Secound number=  4\n"
     ]
    },
    {
     "name": "stdout",
     "output_type": "stream",
     "text": [
      "Quotient is 3\n"
     ]
    }
   ],
   "source": [
    "# Write a program to divide first number by second number. The quotient must be an integer value.\n",
    "num1 = int(input(\"Enter the First number= \"))\n",
    "num2 = int(input(\"Enter the Secound number= \"))\n",
    "\n",
    "quotient = num1 // num2\n",
    "print(\"Integer Quotient is\", quotient)\n"
   ]
  },
  {
   "cell_type": "code",
   "execution_count": 1,
   "id": "8e5ec33d-e286-4074-a8c9-47e1362e5c61",
   "metadata": {},
   "outputs": [
    {
     "name": "stdin",
     "output_type": "stream",
     "text": [
      "Enter a number (y):  4\n"
     ]
    },
    {
     "name": "stdout",
     "output_type": "stream",
     "text": [
      "Addition: 16.2\n",
      "Subtraction: 8.2\n",
      "Multiplication: 48.8\n",
      "Division: 3.05\n",
      "x to the power y: 22153.345599999993\n",
      "Remainder: 0.1999999999999993\n",
      "Quotient (whole number): 3.0\n"
     ]
    }
   ],
   "source": [
    "# Take a value x = 12.2. Accept another number y from user. Print addition, multiplication, division, subtraction for x and y. Also find x to power of y, remainder of division, and quotient as a whole number.\n",
    "# Fixed value\n",
    "x = 12.2\n",
    "\n",
    "# Accept user input\n",
    "y = float(input(\"Enter a y number: \"))\n",
    "\n",
    "# Calculations\n",
    "addition = x + y\n",
    "subtraction = x - y\n",
    "multiplication = x * y\n",
    "division = x / y\n",
    "power = x ** y\n",
    "remainder = x % y\n",
    "quotient = x // y  # Floor division gives quotient as whole number\n",
    "\n",
    "# Output\n",
    "print(\"Addition:\", addition)\n",
    "print(\"Subtraction:\", subtraction)\n",
    "print(\"Multiplication:\", multiplication)\n",
    "print(\"Division:\", division)\n",
    "print(\"x to the power y:\", power)\n",
    "print(\"Remainder:\", remainder)\n",
    "print(\"Quotient (whole number):\", quotient)\n"
   ]
  },
  {
   "cell_type": "code",
   "execution_count": 3,
   "id": "babfa842-8cd2-427e-95f0-7eaf8fe3b0e7",
   "metadata": {},
   "outputs": [
    {
     "name": "stdin",
     "output_type": "stream",
     "text": [
      "Enter time in hours:  1\n"
     ]
    },
    {
     "name": "stdout",
     "output_type": "stream",
     "text": [
      "Minutes: 60.0\n",
      "Seconds: 3600.0\n"
     ]
    }
   ],
   "source": [
    " # accept hours from user and convert them to minutes and seconds\n",
    "# Accept hours from user\n",
    "hours = float(input(\"Enter time in hours: \"))\n",
    "\n",
    "# Convert to minutes and seconds\n",
    "minutes = hours * 60\n",
    "seconds = hours * 3600\n",
    "\n",
    "# Output the result\n",
    "print(\"Minutes:\", minutes)\n",
    "print(\"Seconds:\", seconds)\n"
   ]
  },
  {
   "cell_type": "code",
   "execution_count": 3,
   "id": "c3f416f8-3edf-4e88-adde-3712de98d2df",
   "metadata": {},
   "outputs": [
    {
     "name": "stdin",
     "output_type": "stream",
     "text": [
      "Enter distance in miles:  2\n"
     ]
    },
    {
     "name": "stdout",
     "output_type": "stream",
     "text": [
      "2.0 miles is equal to 3.218 kilometers.\n"
     ]
    }
   ],
   "source": [
    "# accept distance in miles and convert to kilometers (km = 1 mile *  1.609 km)\n",
    "# Accept distance in miles from the user\n",
    "miles = float(input(\"Enter distance in miles: \"))\n",
    "\n",
    "# Conversion factor\n",
    "kilometers = miles * 1.609\n",
    "\n",
    "# Display the result\n",
    "print(f\"{miles} miles is equal to {kilometers} kilometers.\")\n"
   ]
  }
 ],
 "metadata": {
  "kernelspec": {
   "display_name": "Python [conda env:base] *",
   "language": "python",
   "name": "conda-base-py"
  },
  "language_info": {
   "codemirror_mode": {
    "name": "ipython",
    "version": 3
   },
   "file_extension": ".py",
   "mimetype": "text/x-python",
   "name": "python",
   "nbconvert_exporter": "python",
   "pygments_lexer": "ipython3",
   "version": "3.12.7"
  }
 },
 "nbformat": 4,
 "nbformat_minor": 5
}
